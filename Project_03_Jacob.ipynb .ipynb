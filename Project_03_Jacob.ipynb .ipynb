{
 "cells": [
  {
   "cell_type": "markdown",
   "id": "0de5bfee",
   "metadata": {},
   "source": [
    "# DSCI 503 – Project 03\n",
    "### Krupa Jacob"
   ]
  },
  {
   "cell_type": "code",
   "execution_count": 1,
   "id": "86992699",
   "metadata": {},
   "outputs": [],
   "source": [
    "import numpy as np\n",
    "import pandas as pd\n",
    "import matplotlib.pyplot as plt  "
   ]
  },
  {
   "cell_type": "markdown",
   "id": "c925a729",
   "metadata": {},
   "source": [
    "## Part 1: Loading the Dataset; Preliminary Analysis\n",
    "In this section of the project the data is loaded onto the dataframe and the structure of the dataset is explored"
   ]
  },
  {
   "cell_type": "code",
   "execution_count": 2,
   "id": "a8f64fc8",
   "metadata": {},
   "outputs": [
    {
     "name": "stdout",
     "output_type": "stream",
     "text": [
      "    carat        cut color clarity  depth  table  price     x     y     z\n",
      "1    0.23      Ideal     E     SI2   61.5   55.0    326  3.95  3.98  2.43\n",
      "2    0.21    Premium     E     SI1   59.8   61.0    326  3.89  3.84  2.31\n",
      "3    0.23       Good     E     VS1   56.9   65.0    327  4.05  4.07  2.31\n",
      "4    0.29    Premium     I     VS2   62.4   58.0    334  4.20  4.23  2.63\n",
      "5    0.31       Good     J     SI2   63.3   58.0    335  4.34  4.35  2.75\n",
      "6    0.24  Very Good     J    VVS2   62.8   57.0    336  3.94  3.96  2.48\n",
      "7    0.24  Very Good     I    VVS1   62.3   57.0    336  3.95  3.98  2.47\n",
      "8    0.26  Very Good     H     SI1   61.9   55.0    337  4.07  4.11  2.53\n",
      "9    0.22       Fair     E     VS2   65.1   61.0    337  3.87  3.78  2.49\n",
      "10   0.23  Very Good     H     VS1   59.4   61.0    338  4.00  4.05  2.39\n"
     ]
    }
   ],
   "source": [
    "import numpy as np\n",
    "import pandas as pd\n",
    "import matplotlib.pyplot as plt\n",
    "\n",
    "diamonds = pd.read_csv(\"diamonds.txt\", delimiter='\\t')\n",
    "\n",
    "print(diamonds.head(10))"
   ]
  },
  {
   "cell_type": "markdown",
   "id": "94d1e9f3",
   "metadata": {},
   "source": [
    "We will determine the size of the dataset"
   ]
  },
  {
   "cell_type": "code",
   "execution_count": 3,
   "id": "20924953",
   "metadata": {},
   "outputs": [
    {
     "name": "stdout",
     "output_type": "stream",
     "text": [
      "(53940, 10)\n"
     ]
    }
   ],
   "source": [
    "print(diamonds.shape)"
   ]
  },
  {
   "cell_type": "markdown",
   "id": "20d4e2d8",
   "metadata": {},
   "source": [
    "The following cell will now inspect the distribution of columns in the dataset diamonds"
   ]
  },
  {
   "cell_type": "code",
   "execution_count": 4,
   "id": "e11b0169",
   "metadata": {},
   "outputs": [
    {
     "name": "stdout",
     "output_type": "stream",
     "text": [
      "              carat         depth         table         price             x  \\\n",
      "count  53940.000000  53940.000000  53940.000000  53940.000000  53940.000000   \n",
      "mean       0.797940     61.749405     57.457184   3932.799722      5.731157   \n",
      "std        0.474011      1.432621      2.234491   3989.439738      1.121761   \n",
      "min        0.200000     43.000000     43.000000    326.000000      0.000000   \n",
      "25%        0.400000     61.000000     56.000000    950.000000      4.710000   \n",
      "50%        0.700000     61.800000     57.000000   2401.000000      5.700000   \n",
      "75%        1.040000     62.500000     59.000000   5324.250000      6.540000   \n",
      "max        5.010000     79.000000     95.000000  18823.000000     10.740000   \n",
      "\n",
      "                  y             z  \n",
      "count  53940.000000  53940.000000  \n",
      "mean       5.734526      3.538734  \n",
      "std        1.142135      0.705699  \n",
      "min        0.000000      0.000000  \n",
      "25%        4.720000      2.910000  \n",
      "50%        5.710000      3.530000  \n",
      "75%        6.540000      4.040000  \n",
      "max       58.900000     31.800000  \n"
     ]
    }
   ],
   "source": [
    "description = diamonds.describe()\n",
    "print(description)"
   ]
  },
  {
   "cell_type": "markdown",
   "id": "119d4810",
   "metadata": {},
   "source": [
    "## Part 2: Filtering and Sorting\n",
    "Information regarding the dataset diamonds is displayed through using filtering and sorting techniques"
   ]
  },
  {
   "cell_type": "code",
   "execution_count": 5,
   "id": "28edc9d1",
   "metadata": {},
   "outputs": [
    {
     "name": "stdout",
     "output_type": "stream",
     "text": [
      "       price  carat        cut color clarity\n",
      "27750  18823   2.29    Premium     I     VS2\n",
      "27749  18818   2.00  Very Good     G     SI1\n",
      "27748  18806   1.51      Ideal     G      IF\n",
      "27747  18804   2.07      Ideal     G     SI2\n",
      "27746  18803   2.00  Very Good     H     SI1\n"
     ]
    }
   ],
   "source": [
    "diamonds_subset = diamonds[['price', 'carat', 'cut', 'color', 'clarity']].sort_values(by='price', ascending=False).head()\n",
    "print(diamonds_subset)"
   ]
  },
  {
   "cell_type": "markdown",
   "id": "4f1e65e1",
   "metadata": {},
   "source": [
    "We will now view information about the 5 least expensive diamonds in the dataset"
   ]
  },
  {
   "cell_type": "code",
   "execution_count": 6,
   "id": "d23cdbcb",
   "metadata": {},
   "outputs": [
    {
     "data": {
      "text/html": [
       "<div>\n",
       "<style scoped>\n",
       "    .dataframe tbody tr th:only-of-type {\n",
       "        vertical-align: middle;\n",
       "    }\n",
       "\n",
       "    .dataframe tbody tr th {\n",
       "        vertical-align: top;\n",
       "    }\n",
       "\n",
       "    .dataframe thead th {\n",
       "        text-align: right;\n",
       "    }\n",
       "</style>\n",
       "<table border=\"1\" class=\"dataframe\">\n",
       "  <thead>\n",
       "    <tr style=\"text-align: right;\">\n",
       "      <th></th>\n",
       "      <th>price</th>\n",
       "      <th>carat</th>\n",
       "      <th>cut</th>\n",
       "      <th>color</th>\n",
       "      <th>clarity</th>\n",
       "    </tr>\n",
       "  </thead>\n",
       "  <tbody>\n",
       "    <tr>\n",
       "      <th>1</th>\n",
       "      <td>326</td>\n",
       "      <td>0.23</td>\n",
       "      <td>Ideal</td>\n",
       "      <td>E</td>\n",
       "      <td>SI2</td>\n",
       "    </tr>\n",
       "    <tr>\n",
       "      <th>2</th>\n",
       "      <td>326</td>\n",
       "      <td>0.21</td>\n",
       "      <td>Premium</td>\n",
       "      <td>E</td>\n",
       "      <td>SI1</td>\n",
       "    </tr>\n",
       "    <tr>\n",
       "      <th>3</th>\n",
       "      <td>327</td>\n",
       "      <td>0.23</td>\n",
       "      <td>Good</td>\n",
       "      <td>E</td>\n",
       "      <td>VS1</td>\n",
       "    </tr>\n",
       "    <tr>\n",
       "      <th>4</th>\n",
       "      <td>334</td>\n",
       "      <td>0.29</td>\n",
       "      <td>Premium</td>\n",
       "      <td>I</td>\n",
       "      <td>VS2</td>\n",
       "    </tr>\n",
       "    <tr>\n",
       "      <th>5</th>\n",
       "      <td>335</td>\n",
       "      <td>0.31</td>\n",
       "      <td>Good</td>\n",
       "      <td>J</td>\n",
       "      <td>SI2</td>\n",
       "    </tr>\n",
       "  </tbody>\n",
       "</table>\n",
       "</div>"
      ],
      "text/plain": [
       "   price  carat      cut color clarity\n",
       "1    326   0.23    Ideal     E     SI2\n",
       "2    326   0.21  Premium     E     SI1\n",
       "3    327   0.23     Good     E     VS1\n",
       "4    334   0.29  Premium     I     VS2\n",
       "5    335   0.31     Good     J     SI2"
      ]
     },
     "execution_count": 6,
     "metadata": {},
     "output_type": "execute_result"
    }
   ],
   "source": [
    "diamonds[['price', 'carat', 'cut', 'color', 'clarity']].sort_values(by='price').head()"
   ]
  },
  {
   "cell_type": "markdown",
   "id": "7a2319a1",
   "metadata": {},
   "source": [
    "We will now view information about the 5 largest diamonds in the dataset with an \n",
    "ideal cut.  "
   ]
  },
  {
   "cell_type": "code",
   "execution_count": 7,
   "id": "15501bc8",
   "metadata": {},
   "outputs": [
    {
     "data": {
      "text/html": [
       "<div>\n",
       "<style scoped>\n",
       "    .dataframe tbody tr th:only-of-type {\n",
       "        vertical-align: middle;\n",
       "    }\n",
       "\n",
       "    .dataframe tbody tr th {\n",
       "        vertical-align: top;\n",
       "    }\n",
       "\n",
       "    .dataframe thead th {\n",
       "        text-align: right;\n",
       "    }\n",
       "</style>\n",
       "<table border=\"1\" class=\"dataframe\">\n",
       "  <thead>\n",
       "    <tr style=\"text-align: right;\">\n",
       "      <th></th>\n",
       "      <th>price</th>\n",
       "      <th>carat</th>\n",
       "      <th>cut</th>\n",
       "      <th>color</th>\n",
       "      <th>clarity</th>\n",
       "    </tr>\n",
       "  </thead>\n",
       "  <tbody>\n",
       "    <tr>\n",
       "      <th>24329</th>\n",
       "      <td>12587</td>\n",
       "      <td>3.50</td>\n",
       "      <td>Ideal</td>\n",
       "      <td>H</td>\n",
       "      <td>I1</td>\n",
       "    </tr>\n",
       "    <tr>\n",
       "      <th>24298</th>\n",
       "      <td>12545</td>\n",
       "      <td>3.22</td>\n",
       "      <td>Ideal</td>\n",
       "      <td>I</td>\n",
       "      <td>I1</td>\n",
       "    </tr>\n",
       "    <tr>\n",
       "      <th>26468</th>\n",
       "      <td>16037</td>\n",
       "      <td>3.01</td>\n",
       "      <td>Ideal</td>\n",
       "      <td>J</td>\n",
       "      <td>SI2</td>\n",
       "    </tr>\n",
       "    <tr>\n",
       "      <th>26745</th>\n",
       "      <td>16538</td>\n",
       "      <td>3.01</td>\n",
       "      <td>Ideal</td>\n",
       "      <td>J</td>\n",
       "      <td>I1</td>\n",
       "    </tr>\n",
       "    <tr>\n",
       "      <th>24785</th>\n",
       "      <td>13156</td>\n",
       "      <td>2.75</td>\n",
       "      <td>Ideal</td>\n",
       "      <td>D</td>\n",
       "      <td>I1</td>\n",
       "    </tr>\n",
       "  </tbody>\n",
       "</table>\n",
       "</div>"
      ],
      "text/plain": [
       "       price  carat    cut color clarity\n",
       "24329  12587   3.50  Ideal     H      I1\n",
       "24298  12545   3.22  Ideal     I      I1\n",
       "26468  16037   3.01  Ideal     J     SI2\n",
       "26745  16538   3.01  Ideal     J      I1\n",
       "24785  13156   2.75  Ideal     D      I1"
      ]
     },
     "execution_count": 7,
     "metadata": {},
     "output_type": "execute_result"
    }
   ],
   "source": [
    "diamonds[['price', 'carat', 'cut', 'color', 'clarity']][diamonds['cut'] == 'Ideal'].sort_values(by='carat', ascending=False).head()"
   ]
  },
  {
   "cell_type": "markdown",
   "id": "a5d257f8",
   "metadata": {},
   "source": [
    "We will now view information about the 5 largest diamonds in the dataset with an \n",
    "fair cut."
   ]
  },
  {
   "cell_type": "code",
   "execution_count": 8,
   "id": "b0c18883",
   "metadata": {},
   "outputs": [
    {
     "data": {
      "text/html": [
       "<div>\n",
       "<style scoped>\n",
       "    .dataframe tbody tr th:only-of-type {\n",
       "        vertical-align: middle;\n",
       "    }\n",
       "\n",
       "    .dataframe tbody tr th {\n",
       "        vertical-align: top;\n",
       "    }\n",
       "\n",
       "    .dataframe thead th {\n",
       "        text-align: right;\n",
       "    }\n",
       "</style>\n",
       "<table border=\"1\" class=\"dataframe\">\n",
       "  <thead>\n",
       "    <tr style=\"text-align: right;\">\n",
       "      <th></th>\n",
       "      <th>price</th>\n",
       "      <th>carat</th>\n",
       "      <th>cut</th>\n",
       "      <th>color</th>\n",
       "      <th>clarity</th>\n",
       "    </tr>\n",
       "  </thead>\n",
       "  <tbody>\n",
       "    <tr>\n",
       "      <th>27416</th>\n",
       "      <td>18018</td>\n",
       "      <td>5.01</td>\n",
       "      <td>Fair</td>\n",
       "      <td>J</td>\n",
       "      <td>I1</td>\n",
       "    </tr>\n",
       "    <tr>\n",
       "      <th>27631</th>\n",
       "      <td>18531</td>\n",
       "      <td>4.50</td>\n",
       "      <td>Fair</td>\n",
       "      <td>J</td>\n",
       "      <td>I1</td>\n",
       "    </tr>\n",
       "    <tr>\n",
       "      <th>27131</th>\n",
       "      <td>17329</td>\n",
       "      <td>4.13</td>\n",
       "      <td>Fair</td>\n",
       "      <td>H</td>\n",
       "      <td>I1</td>\n",
       "    </tr>\n",
       "    <tr>\n",
       "      <th>23645</th>\n",
       "      <td>11668</td>\n",
       "      <td>3.65</td>\n",
       "      <td>Fair</td>\n",
       "      <td>H</td>\n",
       "      <td>I1</td>\n",
       "    </tr>\n",
       "    <tr>\n",
       "      <th>26432</th>\n",
       "      <td>15964</td>\n",
       "      <td>3.40</td>\n",
       "      <td>Fair</td>\n",
       "      <td>D</td>\n",
       "      <td>I1</td>\n",
       "    </tr>\n",
       "  </tbody>\n",
       "</table>\n",
       "</div>"
      ],
      "text/plain": [
       "       price  carat   cut color clarity\n",
       "27416  18018   5.01  Fair     J      I1\n",
       "27631  18531   4.50  Fair     J      I1\n",
       "27131  17329   4.13  Fair     H      I1\n",
       "23645  11668   3.65  Fair     H      I1\n",
       "26432  15964   3.40  Fair     D      I1"
      ]
     },
     "execution_count": 8,
     "metadata": {},
     "output_type": "execute_result"
    }
   ],
   "source": [
    "diamonds[['price', 'carat', 'cut', 'color', 'clarity']][diamonds['cut'] == 'Fair'].sort_values(by='carat', ascending=False).head()"
   ]
  },
  {
   "cell_type": "markdown",
   "id": "8709e1d0",
   "metadata": {},
   "source": [
    "## Part 3: Working with Categorical Variables\n",
    "In this part of the project we will be creating lists to specify the order for each of the three categorical variables."
   ]
  },
  {
   "cell_type": "code",
   "execution_count": 9,
   "id": "842ee807",
   "metadata": {},
   "outputs": [],
   "source": [
    "\n",
    "clarity_levels = ['I1', 'SI2', 'SI1', 'VS2', 'VS1', 'VVS2', 'VVS1', 'IF']\n",
    "\n",
    "cut_levels = ['Fair', 'Good', 'Very Good', 'Premium', 'Ideal']\n",
    "\n",
    "color_levels = ['J', 'I', 'H', 'G', 'F', 'E', 'D']"
   ]
  },
  {
   "cell_type": "markdown",
   "id": "0413c75a",
   "metadata": {},
   "source": [
    "We will now use these lists to communicate to Pandas the correct order for the \n",
    "levels of the three categorical variables. "
   ]
  },
  {
   "cell_type": "code",
   "execution_count": 10,
   "id": "d5ee030b",
   "metadata": {},
   "outputs": [],
   "source": [
    "\n",
    "diamonds['cut'] = pd.Categorical(diamonds['cut'], ['Fair', 'Good', 'Very Good', 'Premium', 'Ideal'])\n",
    "\n",
    "diamonds['color'] = pd.Categorical(diamonds['color'], ['J', 'I', 'H', 'G', 'F', 'E', 'D'])\n",
    "\n",
    "diamonds['clarity'] = pd.Categorical(diamonds['clarity'], ['I1', 'SI2', 'SI1', 'VS2', 'VS1', 'VVS2', 'VVS1', 'IF'])"
   ]
  },
  {
   "cell_type": "markdown",
   "id": "e42c7171",
   "metadata": {},
   "source": [
    "We will now create lists of named colors to serve as palettes to be used for \n",
    "visualizations later in the notebook."
   ]
  },
  {
   "cell_type": "code",
   "execution_count": 11,
   "id": "213f9c0a",
   "metadata": {},
   "outputs": [],
   "source": [
    "import matplotlib.pyplot as plt\n",
    "import matplotlib.colors as mcolors\n",
    "\n",
    "# Number of levels for each categorical variable\n",
    "num_clarity_levels = len(clarity_levels)\n",
    "num_color_levels = len(color_levels)\n",
    "num_cut_levels = len(cut_levels)\n",
    "\n",
    "# Create color palettes\n",
    "clarity_pal = plt.cm.tab10(range(num_clarity_levels))\n",
    "color_pal = plt.cm.tab10(range(num_color_levels))\n",
    "cut_pal = plt.cm.tab10(range(num_cut_levels))\n",
    "\n",
    "# Convert RGBA values to color names\n",
    "clarity_pal = [mcolors.to_hex(color) for color in clarity_pal]\n",
    "color_pal = [mcolors.to_hex(color) for color in color_pal]\n",
    "cut_pal = [mcolors.to_hex(color) for color in cut_pal]"
   ]
  },
  {
   "cell_type": "markdown",
   "id": "43068f5e",
   "metadata": {},
   "source": [
    "## Part 4: Displaying Counts for Categorical Variables\n",
    "In this part of the project we will start by counting the number of diamonds for each level of cut"
   ]
  },
  {
   "cell_type": "code",
   "execution_count": 12,
   "id": "36c9fefa",
   "metadata": {},
   "outputs": [
    {
     "data": {
      "text/plain": [
       "cut\n",
       "Fair          1610\n",
       "Good          4906\n",
       "Very Good    12082\n",
       "Premium      13791\n",
       "Ideal        21551\n",
       "Name: count, dtype: int64"
      ]
     },
     "execution_count": 12,
     "metadata": {},
     "output_type": "execute_result"
    }
   ],
   "source": [
    "diamonds['cut'].value_counts().sort_index()"
   ]
  },
  {
   "cell_type": "markdown",
   "id": "fff979c5",
   "metadata": {},
   "source": [
    "We will now count the number of diamonds for each level of color"
   ]
  },
  {
   "cell_type": "code",
   "execution_count": 13,
   "id": "7cda87d6",
   "metadata": {},
   "outputs": [
    {
     "data": {
      "text/plain": [
       "color\n",
       "J     2808\n",
       "I     5422\n",
       "H     8304\n",
       "G    11292\n",
       "F     9542\n",
       "E     9797\n",
       "D     6775\n",
       "Name: count, dtype: int64"
      ]
     },
     "execution_count": 13,
     "metadata": {},
     "output_type": "execute_result"
    }
   ],
   "source": [
    "diamonds['color'].value_counts().sort_index()"
   ]
  },
  {
   "cell_type": "markdown",
   "id": "58031b78",
   "metadata": {},
   "source": [
    "We will now count the number of diamonds for each level of clarity.  "
   ]
  },
  {
   "cell_type": "code",
   "execution_count": 14,
   "id": "822761a4",
   "metadata": {},
   "outputs": [
    {
     "data": {
      "text/plain": [
       "clarity\n",
       "I1        741\n",
       "SI2      9194\n",
       "SI1     13065\n",
       "VS2     12258\n",
       "VS1      8171\n",
       "VVS2     5066\n",
       "VVS1     3655\n",
       "IF       1790\n",
       "Name: count, dtype: int64"
      ]
     },
     "execution_count": 14,
     "metadata": {},
     "output_type": "execute_result"
    }
   ],
   "source": [
    "diamonds['clarity'].value_counts().sort_index()"
   ]
  },
  {
   "cell_type": "markdown",
   "id": "a9393611",
   "metadata": {},
   "source": [
    "## Part 5: Scatterplots of Price Against Carat\n",
    "In this part of the project we will explore the relationship between the price and carat attributes by generating scatter plots"
   ]
  },
  {
   "cell_type": "code",
   "execution_count": 15,
   "id": "2d478166",
   "metadata": {},
   "outputs": [
    {
     "data": {
      "image/png": "[encoded data removed]",
      "text/plain": [
       "<Figure size 800x600 with 1 Axes>"
      ]
     },
     "metadata": {},
     "output_type": "display_data"
    }
   ],
   "source": [
    "import matplotlib.pyplot as plt\n",
    "\n",
    "plt.figure(figsize=[8, 6])\n",
    "\n",
    "plt.scatter(diamonds['carat'], diamonds['price'], s=20, alpha=0.4, color='blue', edgecolor='None')\n",
    "\n",
    "plt.xlabel('Carat Size')\n",
    "plt.ylabel('Price (in $)')\n",
    "plt.title('Relationship between Diamond Price and Carat Size')\n",
    "\n",
    "plt.show()"
   ]
  },
  {
   "cell_type": "markdown",
   "id": "1facab33",
   "metadata": {},
   "source": [
    "We will now reproduce the plot from above, but will now color the points according to \n",
    "their clarity. "
   ]
  },
  {
   "cell_type": "code",
   "execution_count": 16,
   "id": "91ca28dd",
   "metadata": {},
   "outputs": [
    {
     "ename": "NameError",
     "evalue": "name 'bb' is not defined",
     "output_type": "error",
     "traceback": [
      "\u001b[1;31m---------------------------------------------------------------------------\u001b[0m",
      "\u001b[1;31mNameError\u001b[0m                                 Traceback (most recent call last)",
      "Cell \u001b[1;32mIn[16], line 2\u001b[0m\n\u001b[0;32m      1\u001b[0m \u001b[38;5;28;01mimport\u001b[39;00m \u001b[38;5;21;01mmatplotlib\u001b[39;00m\u001b[38;5;21;01m.\u001b[39;00m\u001b[38;5;21;01mpyplot\u001b[39;00m \u001b[38;5;28;01mas\u001b[39;00m \u001b[38;5;21;01mplt\u001b[39;00m\n\u001b[1;32m----> 2\u001b[0m bb\n\u001b[0;32m      3\u001b[0m plt\u001b[38;5;241m.\u001b[39mfigure(figsize\u001b[38;5;241m=\u001b[39m[\u001b[38;5;241m8\u001b[39m, \u001b[38;5;241m6\u001b[39m])\n\u001b[0;32m      5\u001b[0m \u001b[38;5;28;01mfor\u001b[39;00m i, clarity_level \u001b[38;5;129;01min\u001b[39;00m \u001b[38;5;28menumerate\u001b[39m(clarity_levels):\n",
      "\u001b[1;31mNameError\u001b[0m: name 'bb' is not defined"
     ]
    }
   ],
   "source": [
    "import matplotlib.pyplot as plt\n",
    "bb\n",
    "plt.figure(figsize=[8, 6])\n",
    "\n",
    "for i, clarity_level in enumerate(clarity_levels):\n",
    "    clarity_mask = diamonds['clarity'] == clarity_level\n",
    "    plt.scatter(diamonds[clarity_mask]['carat'], diamonds[clarity_mask]['price'], s=20, alpha=0.4, label=clarity_level, color=clarity_pal[i], edgecolor='None')\n",
    "\n",
    "plt.xlabel('Carat Size')\n",
    "plt.ylabel('Price (in $)')\n",
    "plt.title('Relationship between Diamond Price and Carat Size')\n",
    "\n",
    "plt.legend(title='Clarity')\n",
    "\n",
    "plt.show()"
   ]
  },
  {
   "cell_type": "markdown",
   "id": "384387fa",
   "metadata": {},
   "source": [
    "We will now separate the points for each of the eight clarity levels into its own \n",
    "subplot."
   ]
  },
  {
   "cell_type": "code",
   "execution_count": null,
   "id": "dd5a4ff5",
   "metadata": {},
   "outputs": [],
   "source": [
    "import matplotlib.pyplot as plt\n",
    "\n",
    "plt.figure(figsize=[12, 6])\n",
    "\n",
    "for i, clarity_level in enumerate(clarity_levels):\n",
    "\n",
    "    plt.subplot(2, 4, i+1)\n",
    "    \n",
    "    clarity_mask = diamonds['clarity'] == clarity_level\n",
    "    \n",
    "    plt.scatter(diamonds[clarity_mask]['carat'], diamonds[clarity_mask]['price'], s=20, alpha=0.4, color=clarity_pal[i], edgecolor='None')\n",
    "    \n",
    "    plt.xlabel('Carat Size')\n",
    "    plt.ylabel('Price (in $)')\n",
    "    plt.title(clarity_level)\n",
    "    \n",
    "    plt.xlim(0, 4)\n",
    "    plt.ylim(0, 20000)\n",
    "\n",
    "plt.tight_layout()\n",
    "\n",
    "plt.show()"
   ]
  },
  {
   "cell_type": "markdown",
   "id": "df4f27a2",
   "metadata": {},
   "source": [
    "## Part 6: Applying Logarithmic Transformations\n",
    "In this part of the project, we will add two new columns to the diamonds in order to store the transformed variables."
   ]
  },
  {
   "cell_type": "code",
   "execution_count": null,
   "id": "099d4d76",
   "metadata": {},
   "outputs": [],
   "source": [
    "import numpy as np\n",
    "\n",
    "diamonds['ln_carat'] = np.log(diamonds['carat'])\n",
    "diamonds['ln_price'] = np.log(diamonds['price'])"
   ]
  },
  {
   "cell_type": "markdown",
   "id": "7a4c3540",
   "metadata": {},
   "source": [
    "We will now use histograms to explore the distribution of the diamond prices, and \n",
    "the log of the diamond prices"
   ]
  },
  {
   "cell_type": "code",
   "execution_count": null,
   "id": "af8f594b",
   "metadata": {},
   "outputs": [],
   "source": [
    "import matplotlib.pyplot as plt\n",
    "\n",
    "plt.figure(figsize=[12, 4])\n",
    "\n",
    "plt.subplot(1, 2, 1)\n",
    "plt.hist(diamonds['price'], bins=20, edgecolor='black', color='blue')\n",
    "plt.xlabel('Price')\n",
    "plt.ylabel('Count')\n",
    "plt.title('Histogram of Prices')\n",
    "\n",
    "plt.subplot(1, 2, 2)\n",
    "plt.hist(diamonds['ln_price'], bins=20, edgecolor='black', color='red')\n",
    "plt.xlabel('Natural Log of Price')\n",
    "plt.ylabel('Count')\n",
    "plt.title('Histogram of Log-Prices')\n",
    "\n",
    "plt.tight_layout()\n",
    "\n",
    "plt.show()"
   ]
  },
  {
   "cell_type": "markdown",
   "id": "68801073",
   "metadata": {},
   "source": [
    "We will now use histograms to explore the distribution of the carat sizes, and the \n",
    "log of the carat sizes.  "
   ]
  },
  {
   "cell_type": "code",
   "execution_count": null,
   "id": "5e5ece7d",
   "metadata": {},
   "outputs": [],
   "source": [
    "import matplotlib.pyplot as plt\n",
    "\n",
    "plt.figure(figsize=[12, 4])\n",
    "\n",
    "plt.subplot(1, 2, 1)\n",
    "plt.hist(diamonds['carat'], bins=20, edgecolor='black', color='green')\n",
    "plt.xlabel('Carat Size')\n",
    "plt.ylabel('Count')\n",
    "plt.title('Histogram of Carat Sizes')\n",
    "\n",
    "plt.subplot(1, 2, 2)\n",
    "plt.hist(diamonds['ln_carat'], bins=20, edgecolor='black', color='orange')\n",
    "plt.xlabel('Natural Log of Carat Size')\n",
    "plt.ylabel('Count')\n",
    "plt.title('Histogram of Log-Carat Sizes')\n",
    "\n",
    "plt.tight_layout()\n",
    "\n",
    "plt.show()"
   ]
  },
  {
   "cell_type": "markdown",
   "id": "13a7a972",
   "metadata": {},
   "source": [
    "## Part 7: Scatterplot of Transformed Variables\n",
    "In this part of the project, a scatterplot of ln_price against ln_carat, with points colored according to their \n",
    "clarity is created"
   ]
  },
  {
   "cell_type": "code",
   "execution_count": null,
   "id": "0840653f",
   "metadata": {},
   "outputs": [],
   "source": [
    "import matplotlib.pyplot as plt\n",
    "\n",
    "plt.figure(figsize=[8, 6])\n",
    "\n",
    "for i, clarity_level in enumerate(clarity_levels):\n",
    "    clarity_mask = diamonds['clarity'] == clarity_level\n",
    "    plt.scatter(diamonds[clarity_mask]['ln_carat'], diamonds[clarity_mask]['ln_price'], s=20, alpha=0.4, label=clarity_level, color=clarity_pal[i], edgecolor='None')\n",
    "\n",
    "plt.xlabel('Natural Log of Carat Size')\n",
    "plt.ylabel('Natural Log of Price')\n",
    "plt.title('Relationship between Log-Price and Log-Carat Size')\n",
    "\n",
    "plt.legend(title='Clarity')\n",
    "\n",
    "plt.show()"
   ]
  },
  {
   "cell_type": "markdown",
   "id": "d126d21e",
   "metadata": {},
   "source": [
    "## Part 8: Grouping by Cut\n",
    "In this part of the project, a grouped DataFrame displaying the mean price and carat size for each cut level.  "
   ]
  },
  {
   "cell_type": "code",
   "execution_count": null,
   "id": "475e321d",
   "metadata": {},
   "outputs": [],
   "source": [
    "diamonds['cut'] = diamonds['cut'].astype(str)\n",
    "\n",
    "gb_cut = diamonds.groupby('cut')[['price', 'carat']].mean()\n",
    "\n",
    "print(gb_cut)"
   ]
  },
  {
   "cell_type": "markdown",
   "id": "6e938e25",
   "metadata": {},
   "source": [
    "We will now use bar charts to graphically display the information from the \n",
    "DataFrame above"
   ]
  },
  {
   "cell_type": "code",
   "execution_count": null,
   "id": "f8f599fd",
   "metadata": {},
   "outputs": [],
   "source": [
    "import matplotlib.pyplot as plt\n",
    "\n",
    "plt.figure(figsize=[12, 4])\n",
    "\n",
    "plt.subplot(1, 2, 1)\n",
    "plt.bar(gb_cut.index, gb_cut['price'], color=cut_pal, edgecolor='black')\n",
    "plt.xlabel('Cut')\n",
    "plt.ylabel('Mean Price')\n",
    "plt.title('Mean Price by Cut')\n",
    "\n",
    "plt.subplot(1, 2, 2)\n",
    "plt.bar(gb_cut.index, gb_cut['carat'], color=cut_pal, edgecolor='black')\n",
    "plt.xlabel('Cut')\n",
    "plt.ylabel('Mean Carat Size')\n",
    "plt.title('Mean Carat Size by Cut')\n",
    "\n",
    "plt.tight_layout()\n",
    "\n",
    "plt.show()"
   ]
  },
  {
   "cell_type": "markdown",
   "id": "7062db6a",
   "metadata": {},
   "source": [
    "## Part 10: Grouping by Clarity\n",
    "In this part of the project, we will create a grouped DataFrame displaying the mean price and carat size for each clarity level. "
   ]
  },
  {
   "cell_type": "code",
   "execution_count": null,
   "id": "63b601c4",
   "metadata": {},
   "outputs": [],
   "source": [
    "gb_clarity = diamonds.groupby('clarity')[['price', 'carat']].mean()\n",
    "\n",
    "print(gb_clarity)"
   ]
  },
  {
   "cell_type": "markdown",
   "id": "0f481a9c",
   "metadata": {},
   "source": [
    "We will now use bar charts to graphically display the information from the \n",
    "DataFrame above.  "
   ]
  },
  {
   "cell_type": "code",
   "execution_count": null,
   "id": "3fd77f41",
   "metadata": {},
   "outputs": [],
   "source": [
    "import matplotlib.pyplot as plt\n",
    "\n",
    "plt.figure(figsize=[12, 4])\n",
    "\n",
    "plt.subplot(1, 2, 1)\n",
    "plt.bar(gb_clarity.index, gb_clarity['price'], color=clarity_pal, edgecolor='black')\n",
    "plt.xlabel('Clarity')\n",
    "plt.ylabel('Mean Price')\n",
    "plt.title('Mean Price by Clarity')\n",
    "\n",
    "plt.subplot(1, 2, 2)\n",
    "plt.bar(gb_clarity.index, gb_clarity['carat'], color=clarity_pal, edgecolor='black')\n",
    "plt.xlabel('Clarity')\n",
    "plt.ylabel('Mean Carat Size')\n",
    "plt.title('Mean Carat Size by Clarity')\n",
    "\n",
    "plt.tight_layout()\n",
    "\n",
    "plt.show()"
   ]
  }
 ],
 "metadata": {
  "kernelspec": {
   "display_name": "Python 3 (ipykernel)",
   "language": "python",
   "name": "python3"
  },
  "language_info": {
   "codemirror_mode": {
    "name": "ipython",
    "version": 3
   },
   "file_extension": ".py",
   "mimetype": "text/x-python",
   "name": "python",
   "nbconvert_exporter": "python",
   "pygments_lexer": "ipython3",
   "version": "3.11.5"
  }
 },
 "nbformat": 4,
 "nbformat_minor": 5
}
